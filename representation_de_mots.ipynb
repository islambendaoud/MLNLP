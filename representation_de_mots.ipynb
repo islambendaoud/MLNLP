{
 "cells": [
  {
   "cell_type": "markdown",
   "metadata": {},
   "source": [
    "# Représentations vectorielles de mots\n",
    "\n",
    "## Questions:\n",
    "\n",
    "\n",
    "### Co-occurrences\n",
    "Sur le corpus Reuters-21578 du TD précédent:\n",
    "1. Calculez la matrice binaire document x mots $D$ en utilisant `CountVectorizer` de `sklearn`. En lisant la documentation expliquez les caractéristiques du vocabulaire extrait.\n",
    "1. Calculez la matrice $W = D^T D$ des co-occurrences. Attention vous voulez conserver le format sparse. \n",
    "1. Choississez un mot et calculez les 10 plus proches voisins de ce mot au sens de la similarité cosinus entre 2 lignes de cette matrice. Commentez.\n",
    "1. Que se passe-t-il si on change les poids de la matrice: Réessayer avec `TFIDFVectorizer`? Commentez.\n",
    "1. Expliquez comment vous feriez pour calculer la matrice de PPMI (fenêtre de contexte h=2).\n",
    "\n",
    "\n",
    "### Embeddings\n",
    "1. Dans la page [suivante](http://vectors.nlpl.eu/repository/): téléchargez les embeddings de mots anglais pré-entraînés pas skipgram (sans lemmatisation).\n",
    "1. Choississez un mot et calculez les 10 plus proches voisins de ce mot au sens de la similarité cosinus entre 2 lignes de cette matrice. Commentez\n",
    "1. Utilisez les embeddings de mots pour construire une représentation de texte et faire de la classification de documents sur reuters\n"
   ]
  }
 ],
 "metadata": {
  "kernelspec": {
   "display_name": "Python 3",
   "language": "python",
   "name": "python3"
  },
  "language_info": {
   "codemirror_mode": {
    "name": "ipython",
    "version": 3
   },
   "file_extension": ".py",
   "mimetype": "text/x-python",
   "name": "python",
   "nbconvert_exporter": "python",
   "pygments_lexer": "ipython3",
   "version": "3.8.8"
  }
 },
 "nbformat": 4,
 "nbformat_minor": 4
}
