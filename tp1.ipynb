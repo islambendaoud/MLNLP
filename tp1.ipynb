{
 "cells": [
  {
   "cell_type": "markdown",
   "id": "5dd43c20",
   "metadata": {},
   "source": [
    "# Binôme : Islam Bendaoud, Sarah Issaad"
   ]
  },
  {
   "cell_type": "markdown",
   "id": "55c91451",
   "metadata": {},
   "source": [
    "# Statistiques de corpus\n",
    "\n",
    "## Préliminaires\n",
    "\n",
    "Pour mieux comprendre les choix qui s'offrirons à nous par la suite, nous allons commencer par utiliser des outils élémentaires. Rédigez vos réponses.  \n",
    "\n",
    "### Questions (les 5 premières questions sont notées sur 15 pts la dernière sur 5 pts)\n",
    "\n",
    "> 1. Chargez le texte qui se trouve dans le fichier `roman.txt`. Débarrassez vous des 1373 premiers caractères puis des 18410 derniers. Combien de caractères contient ce texte? Combien de caractères uniques? En utilisant des expressions régulières, découper le texte en paragraphes. Combien de paragraphes contient ce texte? Combien de paragraphes uniques ? \n",
    "> 1. Ce roman va constituer notre premier corpus. Nous devons également déterminer ce que nous allons considèrer comme étant des mots. Est-ce que les signes de ponctuations sont des mots? Est-ce que les mots en majuscules sont différents des mots en minuscules? Que faire des contractions signalées par des apostrophes comme par exemple: I'm, don't ? Avec l'option que vous aurez choisie, combien de mots contient le corpus? Combien de mots uniques?\n",
    "> 1. Quels sont les 100 mots les plus fréquents? Les 100 mots avec le moins d'occurrences? Commentez.\n",
    "> 1. *Loi de Zipf*: Tracez la distribution des fréquences d'occurrences des mots, puis le nombre d'occurrences des mots en fonction de rang de fréquence (voir la définition de wikipedia). Commentez.\n",
    "> 1. *Loi de Herdan ou de Heaps* : vérifiez la loi suivante : $|V| = k N^{\\beta}$, avec $k>0$ et $0<\\beta<1$ des constantes et $N$ le nombre de mots. Quelles valeurs trouvez vous pour $k$ et $\\beta$.\n",
    "> 1. Implémentez l'algorithme de byte-pair encoding. Comparez les vocabulaires obtenus. Est-ce que le vocabulaire obtenu suit la loi de Zipf?"
   ]
  },
  {
   "cell_type": "code",
   "execution_count": 89,
   "id": "4d534a31",
   "metadata": {},
   "outputs": [],
   "source": [
    "import re"
   ]
  },
  {
   "cell_type": "code",
   "execution_count": 90,
   "id": "3b53e2d3",
   "metadata": {
    "scrolled": true
   },
   "outputs": [
    {
     "name": "stdout",
     "output_type": "stream",
     "text": [
      "﻿The Project Gutenberg eBook of Frankenstein, by Mary Wollstonecraft Shelley\n",
      "\n",
      "=======================\n",
      "Letter 1\n",
      "\n",
      "_To Mrs. Saville, England._\n",
      "\n",
      "\n",
      "St. Petersburgh, Dec. 11th, 17—.\n",
      "\n",
      "\n",
      "You will rejoice to hear that no disaster has accompanied the\n",
      "commencement of an enterprise which you have regarded with such evil\n",
      "forebodings. I arrived here yesterday, and my first task is to assure\n",
      "my dear sister of my welfare and increasing confidence in the success\n",
      "of my undertaking.\n",
      "\n",
      "I am already far north of London, \n",
      "\n",
      "======= . . . =======\n",
      "\n",
      "lt in the agony of the torturing flames. The light of that conflagration\n",
      "will fade away; my ashes will be swept into the sea by the winds. My spirit\n",
      "will sleep in peace, or if it thinks, it will not surely think thus.\n",
      "Farewell.”\n",
      "\n",
      "He sprang from the cabin-window as he said this, upon the ice raft\n",
      "which lay close to the vessel. He was soon borne away by the waves and\n",
      "lost in darkness and distance.\n",
      "\n",
      "\n"
     ]
    }
   ],
   "source": [
    "with open (\"roman.txt\", encoding='utf-8') as f:\n",
    "    txt_raw = f.read()\n",
    "    \n",
    "head = txt_raw[0:1373]\n",
    "foot = txt_raw[-18410:]\n",
    "body = txt_raw[1373:-18410]\n",
    "\n",
    "print(head[0:77])\n",
    "print(\"=======================\")\n",
    "print(body[0:400])\n",
    "print(\"\\n======= . . . =======\\n\")\n",
    "print(body[-400:])"
   ]
  },
  {
   "cell_type": "markdown",
   "id": "626052c4",
   "metadata": {},
   "source": [
    "## Question 1"
   ]
  },
  {
   "cell_type": "markdown",
   "id": "7a8aa18a",
   "metadata": {},
   "source": [
    "> 1. Chargez le texte qui se trouve dans le fichier `roman.txt`. Débarrassez vous des 1373 premiers caractères puis des 18410 derniers. Combien de caractères contient ce texte? Combien de caractères uniques? En utilisant des expressions régulières, découper le texte en paragraphes. Combien de paragraphes contient ce texte? Combien de paragraphes uniques ? "
   ]
  },
  {
   "cell_type": "code",
   "execution_count": 91,
   "id": "2e724f54",
   "metadata": {
    "scrolled": true
   },
   "outputs": [
    {
     "name": "stdout",
     "output_type": "stream",
     "text": [
      "Nombre de caractères dans le body : 418919\n"
     ]
    }
   ],
   "source": [
    "# Nombre de caractères : \n",
    "print(\"Nombre de caractères dans le body :\", len(body))"
   ]
  },
  {
   "cell_type": "markdown",
   "id": "6d5e525b",
   "metadata": {},
   "source": [
    "En utilisant `set()` les caractères doublons sont retirés, on peut donc savoir le nombre de caractères uniques."
   ]
  },
  {
   "cell_type": "code",
   "execution_count": 92,
   "id": "4756e06f",
   "metadata": {
    "scrolled": true
   },
   "outputs": [
    {
     "name": "stdout",
     "output_type": "stream",
     "text": [
      "{'A', '”', '7', ']', 'r', 'm', 'z', 'G', 'o', 'é', 'h', '8', 'L', 'W', 'B', 'n', '-', '4', '\\n', 'v', 'q', '5', '.', 'D', 'O', '6', '!', 'b', '“', ' ', 's', ',', 'p', 'w', 'N', 'M', '?', '[', 'f', '’', 'è', 'a', 'R', 'J', 'ô', '_', 'Y', 'u', '9', '0', 'V', '—', 'I', 'c', 'd', ';', 'æ', ')', 'P', 'j', 'F', 'T', 'g', 'K', '‘', 'C', 'x', 'H', 'U', '2', 'S', '(', 'e', 'i', 'k', '3', '1', ':', 'ê', 'E', 'l', 't', 'y'}\n",
      "Nombre de caractères uniques du texte : 83\n"
     ]
    }
   ],
   "source": [
    "print(set(body))\n",
    "print(\"Nombre de caractères uniques du texte :\", len(set(body)))"
   ]
  },
  {
   "cell_type": "code",
   "execution_count": 93,
   "id": "d7eff11a",
   "metadata": {
    "scrolled": true
   },
   "outputs": [
    {
     "data": {
      "text/plain": [
       "'Letter 1\\n\\n_To Mrs. Saville, England._\\n\\n\\nSt. Petersburgh, Dec. 11th, 17—.\\n\\n\\nYou will rejoice to hear that no disaster has accompanied the\\ncommencement of an enterprise which you have regarded with such evil\\nforebodings. I arrived here yesterday, and my first task is to assure\\nmy dear sister of my welfare and increasing confidence in the success\\nof my undertaking.\\n\\nI am already far north of London, and as I walk in the streets of\\nPetersburgh, I feel a cold northern breeze play upon my cheeks, whic'"
      ]
     },
     "execution_count": 93,
     "metadata": {},
     "output_type": "execute_result"
    }
   ],
   "source": [
    "body[:500]"
   ]
  },
  {
   "cell_type": "markdown",
   "id": "103fe6c5",
   "metadata": {},
   "source": [
    "En regardant le texte sans utiliser `print`, on remarque que les paragraphes sont séparés d'au moins 2 caractères `\\n`, parfois plus. On peut donc utiliser l'expression régulière `\\n\\n+`, qui signifie donc deux `\\n` ou plus. En utilisant la fonction split,  on peut séparer deux bouts de texte entre `\\n\\n+`."
   ]
  },
  {
   "cell_type": "code",
   "execution_count": 94,
   "id": "ec1c702a",
   "metadata": {},
   "outputs": [
    {
     "data": {
      "text/plain": [
       "['Letter 1',\n",
       " '_To Mrs. Saville, England._',\n",
       " 'St. Petersburgh, Dec. 11th, 17—.',\n",
       " 'You will rejoice to hear that no disaster has accompanied the\\ncommencement of an enterprise which you have regarded with such evil\\nforebodings. I arrived here yesterday, and my first task is to assure\\nmy dear sister of my welfare and increasing confidence in the success\\nof my undertaking.']"
      ]
     },
     "execution_count": 94,
     "metadata": {},
     "output_type": "execute_result"
    }
   ],
   "source": [
    "paragraphes = re.split(r'\\n\\n+', body)\n",
    "paragraphes[:4]"
   ]
  },
  {
   "cell_type": "code",
   "execution_count": 95,
   "id": "87ea17de",
   "metadata": {},
   "outputs": [
    {
     "name": "stdout",
     "output_type": "stream",
     "text": [
      "Nombre de paragraphes : 791\n"
     ]
    }
   ],
   "source": [
    "print(\"Nombre de paragraphes :\", len(paragraphes))"
   ]
  },
  {
   "cell_type": "code",
   "execution_count": 96,
   "id": "6f708c24",
   "metadata": {
    "scrolled": true
   },
   "outputs": [
    {
     "name": "stdout",
     "output_type": "stream",
     "text": [
      "Nombre de paragraphes uniques : 787\n"
     ]
    }
   ],
   "source": [
    "print(\"Nombre de paragraphes uniques :\", len(set(paragraphes)))"
   ]
  },
  {
   "cell_type": "markdown",
   "id": "b3df49c6",
   "metadata": {},
   "source": [
    "Il y a des paragraphes qui sont pareils. On peut découvrir lesquels à l'aide d'une bibliothèque, `collections`. En utilisant la classe `Counter` et la méthode `most_common`, on peut voir les paragraphes les plus répétés."
   ]
  },
  {
   "cell_type": "code",
   "execution_count": 97,
   "id": "dfa48a88",
   "metadata": {},
   "outputs": [],
   "source": [
    "import collections"
   ]
  },
  {
   "cell_type": "code",
   "execution_count": 98,
   "id": "28c80111",
   "metadata": {},
   "outputs": [],
   "source": [
    "c_parag = collections.Counter(paragraphes)"
   ]
  },
  {
   "cell_type": "code",
   "execution_count": 99,
   "id": "b0d71282",
   "metadata": {
    "scrolled": true
   },
   "outputs": [
    {
     "data": {
      "text/plain": [
       "[('_To Mrs. Saville, England._', 4),\n",
       " ('“Elizabeth Lavenza.', 2),\n",
       " ('Letter 1', 1)]"
      ]
     },
     "execution_count": 99,
     "metadata": {},
     "output_type": "execute_result"
    }
   ],
   "source": [
    "c_parag.most_common()[:3]"
   ]
  },
  {
   "cell_type": "markdown",
   "id": "6d82d011",
   "metadata": {},
   "source": [
    "## Question 2"
   ]
  },
  {
   "cell_type": "markdown",
   "id": "df74f8e9",
   "metadata": {},
   "source": [
    "> 2. Ce roman va constituer notre premier corpus. Nous devons également déterminer ce que nous allons considèrer comme étant des mots. Est-ce que les signes de ponctuations sont des mots? Est-ce que les mots en majuscules sont différents des mots en minuscules? Que faire des contractions signalées par des apostrophes comme par exemple: I'm, don't ? Avec l'option que vous aurez choisie, combien de mots contient le corpus? Combien de mots uniques?"
   ]
  },
  {
   "cell_type": "markdown",
   "id": "887ed357",
   "metadata": {},
   "source": [
    "Ici on garde la ponctuation car elle peut donner des informations sur une phrase. Les contractions comme \"I'm\" et \"don't\" n'apparaissent pas dans le texte, donc on n'a pas besoin de les enlever. Cependant, cela pourrait être nécessaire, pour par exemple compter le nombre d'occurrences si \"do not\" et \"don't\" sont tous les deux utilisés dans le texte. Ici, on choisit de mettre tous les mots en minuscule, puisque les ponctuations déterminent les débuts de phrases. Les `\\n` ne font pas partie des mots, on les enlève aussi."
   ]
  },
  {
   "cell_type": "code",
   "execution_count": 100,
   "id": "88c8621d",
   "metadata": {
    "scrolled": false
   },
   "outputs": [
    {
     "name": "stdout",
     "output_type": "stream",
     "text": [
      "I'm dans body : False\n",
      "I am dans body : True\n",
      "don't ou Don't dans body : False\n",
      "do not dans body : True\n"
     ]
    }
   ],
   "source": [
    "print(\"I'm dans body :\", \"I'm\" in body)\n",
    "print(\"I am dans body :\", \"I am\" in body)\n",
    "print(\"don't ou Don't dans body :\", \"don't\" in body or \"Don't\" in body)\n",
    "print(\"do not dans body :\", \"do not\" in body)"
   ]
  },
  {
   "cell_type": "markdown",
   "id": "99672115",
   "metadata": {},
   "source": [
    "Pour considérer les ponctuations comme des mots, on doit les espacer. On peut utiliser la fonction `sub` de la bibliothèque des expressions régulières. On prend une ponctuation avec \"\\W\" et \"\\_\", qui est la seule ponctuation à ne pas être dans \\W, et on la remplace par un espace suivi du même caractère, qui est lui même suivi d'un espace. On garde le caractère avec (), et `\\1`est le caractère dans le champ de remplacement. Petit détail : il faut mettre `\\` pour signifier que c'est un caractère spécial. A noter également que ce n'est pas un souci d'avoir plusieurs espaces entre deux mots."
   ]
  },
  {
   "cell_type": "code",
   "execution_count": 101,
   "id": "5485eeca",
   "metadata": {
    "scrolled": true
   },
   "outputs": [
    {
     "data": {
      "text/plain": [
       "'Letter   1 \\n  \\n  _ To   Mrs .    Saville ,    England .  _  \\n  \\n  \\n St .    Petersburgh ,    Dec .    11th ,    17 —  .  \\n  \\n  \\n You   will   rejoice   to   hear   that   no   disaster   has   accompanied   the \\n commencement   of   an   enterprise   which   you   have   regarded   with   such   evil \\n forebodings .    I   arrived   here   yesterday ,    and   my   first   task   is   to   assure \\n my   dear   sister   of   my   welfare   and   increasing   confidence   in   the   success \\n of  '"
      ]
     },
     "execution_count": 101,
     "metadata": {},
     "output_type": "execute_result"
    }
   ],
   "source": [
    "body_esp = re.sub(r'([\\W_])', ' \\\\1 ', body)\n",
    "body_esp[:500]"
   ]
  },
  {
   "cell_type": "markdown",
   "id": "edb93b62",
   "metadata": {},
   "source": [
    "Ensuite, on met les lettres en minuscule avec `lower()` et on sépare les mots par espaces et \\n avec split :"
   ]
  },
  {
   "cell_type": "code",
   "execution_count": 102,
   "id": "d1af7934",
   "metadata": {},
   "outputs": [],
   "source": [
    "body_clean = body_esp.lower()\n",
    "words_clean = body_clean.split()"
   ]
  },
  {
   "cell_type": "code",
   "execution_count": 103,
   "id": "1ccc5459",
   "metadata": {},
   "outputs": [
    {
     "name": "stdout",
     "output_type": "stream",
     "text": [
      "Nombre de mots :  85976\n"
     ]
    }
   ],
   "source": [
    "print(\"Nombre de mots : \", len(words_clean))"
   ]
  },
  {
   "cell_type": "code",
   "execution_count": 104,
   "id": "7910448a",
   "metadata": {},
   "outputs": [
    {
     "name": "stdout",
     "output_type": "stream",
     "text": [
      "Nombre de mots uniques : 7020\n"
     ]
    }
   ],
   "source": [
    "print(\"Nombre de mots uniques :\", len(set(words_clean)))"
   ]
  },
  {
   "cell_type": "markdown",
   "id": "50d5a9fb",
   "metadata": {},
   "source": [
    "## Question 3 "
   ]
  },
  {
   "cell_type": "markdown",
   "id": "d7161a18",
   "metadata": {},
   "source": [
    "> 3. Quels sont les 100 mots les plus fréquents? Les 100 mots avec le moins d'occurrences? Commentez."
   ]
  },
  {
   "cell_type": "code",
   "execution_count": 105,
   "id": "2a99bb0d",
   "metadata": {},
   "outputs": [],
   "source": [
    "counter_words = collections.Counter((words_clean))"
   ]
  },
  {
   "cell_type": "code",
   "execution_count": 106,
   "id": "7082bcdf",
   "metadata": {
    "scrolled": true
   },
   "outputs": [
    {
     "data": {
      "text/plain": [
       "[(',', 4956),\n",
       " ('the', 4194),\n",
       " ('and', 2976),\n",
       " ('.', 2920),\n",
       " ('i', 2850),\n",
       " ('of', 2642),\n",
       " ('to', 2094),\n",
       " ('my', 1776),\n",
       " ('a', 1391),\n",
       " ('in', 1129),\n",
       " ('was', 1021),\n",
       " ('that', 1018),\n",
       " (';', 971),\n",
       " ('me', 867),\n",
       " ('but', 687),\n",
       " ('had', 686),\n",
       " ('with', 667),\n",
       " ('he', 608),\n",
       " ('you', 574),\n",
       " ('which', 558),\n",
       " ('it', 547),\n",
       " ('his', 535),\n",
       " ('as', 528),\n",
       " ('not', 510),\n",
       " ('for', 498),\n",
       " ('“', 480),\n",
       " ('by', 460),\n",
       " ('on', 460),\n",
       " ('this', 402),\n",
       " ('from', 385),\n",
       " ('her', 373),\n",
       " ('have', 365),\n",
       " ('be', 360),\n",
       " ('when', 328),\n",
       " ('at', 317),\n",
       " ('were', 308),\n",
       " ('is', 307),\n",
       " ('”', 293),\n",
       " ('she', 255),\n",
       " ('your', 252),\n",
       " ('!', 238),\n",
       " ('him', 222),\n",
       " ('?', 220),\n",
       " ('an', 211),\n",
       " ('they', 210),\n",
       " ('so', 210),\n",
       " ('one', 206),\n",
       " ('all', 200),\n",
       " ('could', 197),\n",
       " ('will', 194),\n",
       " ('if', 194),\n",
       " ('been', 190),\n",
       " ('their', 186),\n",
       " ('would', 184),\n",
       " ('are', 176),\n",
       " ('or', 176),\n",
       " ('we', 174),\n",
       " ('who', 174),\n",
       " ('no', 172),\n",
       " ('more', 165),\n",
       " ('now', 155),\n",
       " ('these', 154),\n",
       " ('should', 153),\n",
       " ('yet', 152),\n",
       " ('some', 147),\n",
       " ('before', 146),\n",
       " ('’', 144),\n",
       " ('man', 137),\n",
       " ('myself', 136),\n",
       " ('father', 134),\n",
       " ('what', 132),\n",
       " ('them', 127),\n",
       " ('am', 126),\n",
       " ('upon', 126),\n",
       " ('our', 126),\n",
       " ('—', 124),\n",
       " ('into', 124),\n",
       " ('its', 123),\n",
       " ('only', 123),\n",
       " ('-', 123),\n",
       " ('did', 119),\n",
       " ('do', 118),\n",
       " ('life', 115),\n",
       " ('than', 110),\n",
       " ('every', 109),\n",
       " ('then', 109),\n",
       " ('first', 108),\n",
       " ('might', 108),\n",
       " ('own', 107),\n",
       " ('shall', 105),\n",
       " ('eyes', 104),\n",
       " ('said', 102),\n",
       " ('may', 99),\n",
       " ('time', 98),\n",
       " ('being', 97),\n",
       " ('towards', 94),\n",
       " ('how', 94),\n",
       " ('even', 94),\n",
       " ('saw', 94),\n",
       " ('can', 93)]"
      ]
     },
     "execution_count": 106,
     "metadata": {},
     "output_type": "execute_result"
    }
   ],
   "source": [
    "counter_words.most_common(100)"
   ]
  },
  {
   "cell_type": "code",
   "execution_count": 107,
   "id": "6af607c1",
   "metadata": {
    "scrolled": true
   },
   "outputs": [
    {
     "data": {
      "text/plain": [
       "[('surgeon', 1),\n",
       " ('composing', 1),\n",
       " ('grieve', 1),\n",
       " ('bidding', 1),\n",
       " ('blamable', 1),\n",
       " ('paramount', 1),\n",
       " ('claims', 1),\n",
       " ('included', 1),\n",
       " ('refusing', 1),\n",
       " ('actuated', 1),\n",
       " ('renounce', 1),\n",
       " ('points', 1),\n",
       " ('balancing', 1),\n",
       " ('misled', 1),\n",
       " ('disturbs', 1),\n",
       " ('distinguishing', 1),\n",
       " ('fainter', 1),\n",
       " ('feebly', 1),\n",
       " ('irradiation', 1),\n",
       " ('comment', 1),\n",
       " ('depth', 1),\n",
       " ('inadequate', 1),\n",
       " ('overshadowed', 1),\n",
       " ('portend', 1),\n",
       " ('fairly', 1),\n",
       " ('stir', 1),\n",
       " ('hoarser', 1),\n",
       " ('comes', 1),\n",
       " ('fated', 1),\n",
       " ('locks', 1),\n",
       " ('texture', 1),\n",
       " ('consummated', 1),\n",
       " ('irretrievably', 1),\n",
       " ('lovedst', 1),\n",
       " ('obeying', 1),\n",
       " ('scaring', 1),\n",
       " ('reproaches', 1),\n",
       " ('superfluous', 1),\n",
       " ('heeded', 1),\n",
       " ('stings', 1),\n",
       " ('diabolical', 1),\n",
       " ('thousandth', 1),\n",
       " ('lingering', 1),\n",
       " ('wrenched', 1),\n",
       " ('pitied', 1),\n",
       " ('disobey', 1),\n",
       " ('riot', 1),\n",
       " ('adapt', 1),\n",
       " ('rekindled', 1),\n",
       " ('whine', 1),\n",
       " ('torch', 1),\n",
       " ('buildings', 1),\n",
       " ('hypocritical', 1),\n",
       " ('withdrawn', 1),\n",
       " ('participated', 1),\n",
       " ('opprobrium', 1),\n",
       " ('fame', 1),\n",
       " ('falsely', 1),\n",
       " ('pardoning', 1),\n",
       " ('nourished', 1),\n",
       " ('meanest', 1),\n",
       " ('comparable', 1),\n",
       " ('catalogue', 1),\n",
       " ('transcendent', 1),\n",
       " ('associates', 1),\n",
       " ('wasting', 1),\n",
       " ('craving', 1),\n",
       " ('fellowship', 1),\n",
       " ('sinned', 1),\n",
       " ('contumely', 1),\n",
       " ('execrate', 1),\n",
       " ('saviour', 1),\n",
       " ('immaculate', 1),\n",
       " ('abortion', 1),\n",
       " ('kicked', 1),\n",
       " ('trampled', 1),\n",
       " ('boils', 1),\n",
       " ('injured', 1),\n",
       " ('select', 1),\n",
       " ('specimen', 1),\n",
       " ('irremediable', 1),\n",
       " ('haunt', 1),\n",
       " ('needed', 1),\n",
       " ('thither', 1),\n",
       " ('curious', 1),\n",
       " ('unquenched', 1),\n",
       " ('affords', 1),\n",
       " ('rustling', 1),\n",
       " ('warbling', 1),\n",
       " ('polluted', 1),\n",
       " ('didst', 1),\n",
       " ('hadst', 1),\n",
       " ('wouldst', 1),\n",
       " ('rankle', 1),\n",
       " ('triumphantly', 1),\n",
       " ('exult', 1),\n",
       " ('torturing', 1),\n",
       " ('conflagration', 1),\n",
       " ('fade', 1),\n",
       " ('thinks', 1)]"
      ]
     },
     "execution_count": 107,
     "metadata": {},
     "output_type": "execute_result"
    }
   ],
   "source": [
    "counter_words.most_common()[-100:]"
   ]
  },
  {
   "cell_type": "markdown",
   "id": "7f05d2fd",
   "metadata": {},
   "source": [
    "Les mots les plus communs sont des mots communs en général, tels que \"the\", \"and\" ou bien des ponctuations. Les mots les moins communs sont plus descriptifs du roman, comme \"surgeon\" ou \"grieve\", qui peuvent être représentatifs du thème du livre."
   ]
  },
  {
   "cell_type": "markdown",
   "id": "5bd976f3",
   "metadata": {},
   "source": [
    "## Question 4"
   ]
  },
  {
   "cell_type": "markdown",
   "id": "00ec3483",
   "metadata": {},
   "source": [
    "> 4. *Loi de Zipf*: Tracez la distribution des fréquences d'occurrences des mots, puis le nombre d'occurrences des mots en fonction de rang de fréquence (voir la définition de wikipedia). Commentez."
   ]
  },
  {
   "cell_type": "markdown",
   "id": "47f5ffc8",
   "metadata": {},
   "source": [
    "# Expliquer la loi de Zipf"
   ]
  },
  {
   "cell_type": "markdown",
   "id": "3b8b897d",
   "metadata": {},
   "source": [
    "Distribution des fréquences d'occurrences : on utilise most_common, qui renvoie ces occurrences."
   ]
  },
  {
   "cell_type": "code",
   "execution_count": 108,
   "id": "2634218a",
   "metadata": {},
   "outputs": [],
   "source": [
    "import numpy as np\n",
    "import matplotlib.pyplot as plt"
   ]
  },
  {
   "cell_type": "code",
   "execution_count": 109,
   "id": "735c4518",
   "metadata": {},
   "outputs": [],
   "source": [
    "freq_words = np.array(counter_words.most_common())"
   ]
  },
  {
   "cell_type": "code",
   "execution_count": 110,
   "id": "9f80b59e",
   "metadata": {},
   "outputs": [
    {
     "data": {
      "text/plain": [
       "array([[',', '4956'],\n",
       "       ['the', '4194'],\n",
       "       ['and', '2976'],\n",
       "       ...,\n",
       "       ['conflagration', '1'],\n",
       "       ['fade', '1'],\n",
       "       ['thinks', '1']], dtype='<U18')"
      ]
     },
     "execution_count": 110,
     "metadata": {},
     "output_type": "execute_result"
    }
   ],
   "source": [
    "freq_words"
   ]
  },
  {
   "cell_type": "code",
   "execution_count": 111,
   "id": "3194a0af",
   "metadata": {},
   "outputs": [],
   "source": [
    "# On ne prend pas les mots, uniquement les occurrences.\n",
    "liste_occ = freq_words[:, 1].astype(int)"
   ]
  },
  {
   "cell_type": "code",
   "execution_count": 112,
   "id": "4c971cd7",
   "metadata": {
    "scrolled": false
   },
   "outputs": [
    {
     "data": {
      "image/png": "[encoded data removed]",
      "text/plain": [
       "<Figure size 640x480 with 1 Axes>"
      ]
     },
     "metadata": {},
     "output_type": "display_data"
    }
   ],
   "source": [
    "plt.hist(liste_occ, histtype='stepfilled', bins=10)\n",
    "plt.hist(liste_occ, histtype='step', color=\"black\", bins=10)\n",
    "plt.yscale(\"log\")"
   ]
  },
  {
   "cell_type": "markdown",
   "id": "93631f40",
   "metadata": {},
   "source": [
    "La distribution est plutôt inégale. Il y a une très forte proportion, même à l'échelle logarithmique, de mots ayant moins de 500 occurrences dans le texte. Certains mots, moins de 10 à chaque fois, ont des occurrences supérieures à 1000. On a donc beaucoup de mots uniques ou peu usés et peu de mots qui se répètent dans le roman."
   ]
  },
  {
   "cell_type": "code",
   "execution_count": 113,
   "id": "af2512ed",
   "metadata": {},
   "outputs": [],
   "source": [
    "x = np.arange(len(set(words_clean)))\n",
    "y = liste_occ"
   ]
  },
  {
   "cell_type": "code",
   "execution_count": 114,
   "id": "a96772b2",
   "metadata": {
    "scrolled": false
   },
   "outputs": [
    {
     "data": {
      "image/png": "[encoded data removed]",
      "text/plain": [
       "<Figure size 640x480 with 1 Axes>"
      ]
     },
     "metadata": {},
     "output_type": "display_data"
    }
   ],
   "source": [
    "# On utilise l'échelle logarithmique, qui nous donne des résultats plus visibles.\n",
    "plt.plot(x, y)\n",
    "plt.yscale(\"log\")\n",
    "plt.xlabel(\"Rang d'occurrence d'un mot\")\n",
    "plt.ylabel(\"Nombre d'occurrences du mot\")\n",
    "plt.title(\"Nombre d'occurrences des mots en fonction de rang de fréquence.\")\n",
    "plt.show()"
   ]
  },
  {
   "cell_type": "markdown",
   "id": "63c8c92f",
   "metadata": {},
   "source": [
    "On voit un peu plus de détail au niveau du nombre d'occurrences. Il y a peu de mots (par rapport au nombre de mots uniques total) ayant une occurrence au dessus de 10, moins de 1000. En revanche, il y a plus de 3000 mots qui n'apparaissent qu'une fois dans le roman."
   ]
  },
  {
   "cell_type": "markdown",
   "id": "149f68ef",
   "metadata": {},
   "source": [
    "## Question 5"
   ]
  },
  {
   "cell_type": "markdown",
   "id": "141c565a",
   "metadata": {},
   "source": [
    "> 5. *Loi de Herdan ou de Heaps* : vérifiez la loi suivante : $|V| = k N^{\\beta}$, avec $k>0$ et $0<\\beta<1$ des constantes et $N$ le nombre de mots. Quelles valeurs trouvez vous pour $k$ et $\\beta$."
   ]
  },
  {
   "cell_type": "markdown",
   "id": "ee9d7a37",
   "metadata": {},
   "source": [
    "Si on utilise le logarithme, on peut ensuite utiliser la régression logistique pour trouver les coefficients $k$ et $\\beta$. Puisque $ \\log|V| = \\beta\\log N + \\log k \\Leftrightarrow y = ax + b$, On peut utiliser les données précédentes pour avoir des coefficients similaires aux vrais. D'abord, on doit regarder les valeurs de $|V|$ pour plusieurs valeurs de $N$. Pour cela, il suffit juste de découper le texte et de prendre une partie de plus en plus grande. Ici, nous découpons en 20 parties, et ajoutons une partie au fur et à mesure. Une amélioration possible serait de prendre des paragraphes entiers au lieu de les couper en plein milieu."
   ]
  },
  {
   "cell_type": "code",
   "execution_count": 115,
   "id": "570f91c6",
   "metadata": {},
   "outputs": [],
   "source": [
    "heaps = np.array([[0,0]])\n",
    "for i in range(1,21):\n",
    "    cut_words = words_clean[:int(len(words_clean)*(5*i)/100)]\n",
    "    c = collections.Counter((cut_words))\n",
    "    freq_words_i = np.array(c.most_common())\n",
    "    heaps = np.concatenate((heaps, np.array([[len(cut_words), len(freq_words_i)]])))"
   ]
  },
  {
   "cell_type": "code",
   "execution_count": 116,
   "id": "be486d16",
   "metadata": {},
   "outputs": [
    {
     "data": {
      "text/plain": [
       "array([[ 4298,  1304],\n",
       "       [ 8597,  2087],\n",
       "       [12896,  2740],\n",
       "       [17195,  3275],\n",
       "       [21494,  3677],\n",
       "       [25792,  4003],\n",
       "       [30091,  4262],\n",
       "       [34390,  4651],\n",
       "       [38689,  4929],\n",
       "       [42988,  5152],\n",
       "       [47286,  5419],\n",
       "       [51585,  5609],\n",
       "       [55884,  5785],\n",
       "       [60183,  6051],\n",
       "       [64482,  6258],\n",
       "       [68780,  6407],\n",
       "       [73079,  6553],\n",
       "       [77378,  6706],\n",
       "       [81677,  6872],\n",
       "       [85976,  7020]])"
      ]
     },
     "execution_count": 116,
     "metadata": {},
     "output_type": "execute_result"
    }
   ],
   "source": [
    "heaps = heaps[1:]\n",
    "heaps"
   ]
  },
  {
   "cell_type": "markdown",
   "id": "35a2c782",
   "metadata": {},
   "source": [
    "Ensuite on regarde la courbe réelle des valeurs :"
   ]
  },
  {
   "cell_type": "code",
   "execution_count": 117,
   "id": "6ee5a318",
   "metadata": {
    "scrolled": true
   },
   "outputs": [
    {
     "data": {
      "image/png": "[encoded data removed]",
      "text/plain": [
       "<Figure size 640x480 with 1 Axes>"
      ]
     },
     "metadata": {},
     "output_type": "display_data"
    }
   ],
   "source": [
    "plt.plot(heaps[:, 0], heaps[:, 1])\n",
    "plt.xlabel(\"N, nombre de mots\")\n",
    "plt.ylabel(\"|V|, taille du vocabulaire : nombre de mots uniques\")\n",
    "plt.show()"
   ]
  },
  {
   "cell_type": "markdown",
   "id": "b63bdf0b",
   "metadata": {},
   "source": [
    "On entraîne le modèle avec toutes les valeurs. (On pourrait en créer d'autres pour voir le score)."
   ]
  },
  {
   "cell_type": "code",
   "execution_count": 118,
   "id": "42dfacfa",
   "metadata": {},
   "outputs": [],
   "source": [
    "from sklearn.linear_model import LinearRegression"
   ]
  },
  {
   "cell_type": "code",
   "execution_count": 119,
   "id": "12bfdd83",
   "metadata": {},
   "outputs": [],
   "source": [
    "# Une seule colonne de données.\n",
    "X = np.log(heaps[:, 0]).reshape(len(heaps[:, 0]), 1)"
   ]
  },
  {
   "cell_type": "code",
   "execution_count": 120,
   "id": "befa5cc6",
   "metadata": {},
   "outputs": [],
   "source": [
    "y = np.log(heaps[:, 1])"
   ]
  },
  {
   "cell_type": "code",
   "execution_count": 121,
   "id": "8b774f9b",
   "metadata": {},
   "outputs": [
    {
     "data": {
      "text/html": [
       "<style>#sk-container-id-2 {color: black;background-color: white;}#sk-container-id-2 pre{padding: 0;}#sk-container-id-2 div.sk-toggleable {background-color: white;}#sk-container-id-2 label.sk-toggleable__label {cursor: pointer;display: block;width: 100%;margin-bottom: 0;padding: 0.3em;box-sizing: border-box;text-align: center;}#sk-container-id-2 label.sk-toggleable__label-arrow:before {content: \"▸\";float: left;margin-right: 0.25em;color: #696969;}#sk-container-id-2 label.sk-toggleable__label-arrow:hover:before {color: black;}#sk-container-id-2 div.sk-estimator:hover label.sk-toggleable__label-arrow:before {color: black;}#sk-container-id-2 div.sk-toggleable__content {max-height: 0;max-width: 0;overflow: hidden;text-align: left;background-color: #f0f8ff;}#sk-container-id-2 div.sk-toggleable__content pre {margin: 0.2em;color: black;border-radius: 0.25em;background-color: #f0f8ff;}#sk-container-id-2 input.sk-toggleable__control:checked~div.sk-toggleable__content {max-height: 200px;max-width: 100%;overflow: auto;}#sk-container-id-2 input.sk-toggleable__control:checked~label.sk-toggleable__label-arrow:before {content: \"▾\";}#sk-container-id-2 div.sk-estimator input.sk-toggleable__control:checked~label.sk-toggleable__label {background-color: #d4ebff;}#sk-container-id-2 div.sk-label input.sk-toggleable__control:checked~label.sk-toggleable__label {background-color: #d4ebff;}#sk-container-id-2 input.sk-hidden--visually {border: 0;clip: rect(1px 1px 1px 1px);clip: rect(1px, 1px, 1px, 1px);height: 1px;margin: -1px;overflow: hidden;padding: 0;position: absolute;width: 1px;}#sk-container-id-2 div.sk-estimator {font-family: monospace;background-color: #f0f8ff;border: 1px dotted black;border-radius: 0.25em;box-sizing: border-box;margin-bottom: 0.5em;}#sk-container-id-2 div.sk-estimator:hover {background-color: #d4ebff;}#sk-container-id-2 div.sk-parallel-item::after {content: \"\";width: 100%;border-bottom: 1px solid gray;flex-grow: 1;}#sk-container-id-2 div.sk-label:hover label.sk-toggleable__label {background-color: #d4ebff;}#sk-container-id-2 div.sk-serial::before {content: \"\";position: absolute;border-left: 1px solid gray;box-sizing: border-box;top: 0;bottom: 0;left: 50%;z-index: 0;}#sk-container-id-2 div.sk-serial {display: flex;flex-direction: column;align-items: center;background-color: white;padding-right: 0.2em;padding-left: 0.2em;position: relative;}#sk-container-id-2 div.sk-item {position: relative;z-index: 1;}#sk-container-id-2 div.sk-parallel {display: flex;align-items: stretch;justify-content: center;background-color: white;position: relative;}#sk-container-id-2 div.sk-item::before, #sk-container-id-2 div.sk-parallel-item::before {content: \"\";position: absolute;border-left: 1px solid gray;box-sizing: border-box;top: 0;bottom: 0;left: 50%;z-index: -1;}#sk-container-id-2 div.sk-parallel-item {display: flex;flex-direction: column;z-index: 1;position: relative;background-color: white;}#sk-container-id-2 div.sk-parallel-item:first-child::after {align-self: flex-end;width: 50%;}#sk-container-id-2 div.sk-parallel-item:last-child::after {align-self: flex-start;width: 50%;}#sk-container-id-2 div.sk-parallel-item:only-child::after {width: 0;}#sk-container-id-2 div.sk-dashed-wrapped {border: 1px dashed gray;margin: 0 0.4em 0.5em 0.4em;box-sizing: border-box;padding-bottom: 0.4em;background-color: white;}#sk-container-id-2 div.sk-label label {font-family: monospace;font-weight: bold;display: inline-block;line-height: 1.2em;}#sk-container-id-2 div.sk-label-container {text-align: center;}#sk-container-id-2 div.sk-container {/* jupyter's `normalize.less` sets `[hidden] { display: none; }` but bootstrap.min.css set `[hidden] { display: none !important; }` so we also need the `!important` here to be able to override the default hidden behavior on the sphinx rendered scikit-learn.org. See: https://github.com/scikit-learn/scikit-learn/issues/21755 */display: inline-block !important;position: relative;}#sk-container-id-2 div.sk-text-repr-fallback {display: none;}</style><div id=\"sk-container-id-2\" class=\"sk-top-container\"><div class=\"sk-text-repr-fallback\"><pre>LinearRegression()</pre><b>In a Jupyter environment, please rerun this cell to show the HTML representation or trust the notebook. <br />On GitHub, the HTML representation is unable to render, please try loading this page with nbviewer.org.</b></div><div class=\"sk-container\" hidden><div class=\"sk-item\"><div class=\"sk-estimator sk-toggleable\"><input class=\"sk-toggleable__control sk-hidden--visually\" id=\"sk-estimator-id-2\" type=\"checkbox\" checked><label for=\"sk-estimator-id-2\" class=\"sk-toggleable__label sk-toggleable__label-arrow\">LinearRegression</label><div class=\"sk-toggleable__content\"><pre>LinearRegression()</pre></div></div></div></div></div>"
      ],
      "text/plain": [
       "LinearRegression()"
      ]
     },
     "execution_count": 121,
     "metadata": {},
     "output_type": "execute_result"
    }
   ],
   "source": [
    "reg = LinearRegression()\n",
    "reg.fit(X, y)"
   ]
  },
  {
   "cell_type": "code",
   "execution_count": 122,
   "id": "ce0da4b6",
   "metadata": {},
   "outputs": [
    {
     "name": "stdout",
     "output_type": "stream",
     "text": [
      "Bêta chapeau =  0.5402768678202082\n",
      "log k chapeau =  2.7654184379023317\n"
     ]
    }
   ],
   "source": [
    "print(\"Bêta chapeau = \", reg.coef_[0])\n",
    "print(\"log k chapeau = \", reg.intercept_)"
   ]
  },
  {
   "cell_type": "code",
   "execution_count": 123,
   "id": "efb70f06",
   "metadata": {},
   "outputs": [],
   "source": [
    "k_hat = np.exp(reg.intercept_)\n",
    "beta_hat = reg.coef_[0]"
   ]
  },
  {
   "cell_type": "code",
   "execution_count": 124,
   "id": "eb5f2ff9",
   "metadata": {},
   "outputs": [],
   "source": [
    "N = np.linspace(0, 85000, num=20)"
   ]
  },
  {
   "cell_type": "code",
   "execution_count": 125,
   "id": "245bac68",
   "metadata": {
    "scrolled": true
   },
   "outputs": [
    {
     "data": {
      "image/png": "[encoded data removed]",
      "text/plain": [
       "<Figure size 640x480 with 1 Axes>"
      ]
     },
     "metadata": {},
     "output_type": "display_data"
    }
   ],
   "source": [
    "plt.plot(N, k_hat*(N**beta_hat))\n",
    "plt.xlabel(\"N, nombre de mots\")\n",
    "plt.ylabel(\"|V| estimé, nombre de mots uniques\")\n",
    "plt.show()"
   ]
  },
  {
   "cell_type": "markdown",
   "id": "ad0c3b98",
   "metadata": {},
   "source": [
    "Les courbes sont similaires, mais on pourrait mesurer la différence en prenant d'autres valeurs et en regardant le score de test."
   ]
  },
  {
   "cell_type": "code",
   "execution_count": 126,
   "id": "b6e04ee5",
   "metadata": {},
   "outputs": [],
   "source": [
    "heaps_example = np.array([[0,0]])\n",
    "for i in range(1, 20):\n",
    "    cut_words = words_clean[:int(len(words_clean)*(5*i+1)/100)]\n",
    "    c = collections.Counter((cut_words))\n",
    "    freq_words_i = np.array(c.most_common())\n",
    "    heaps_example = np.concatenate((heaps_example, np.array([[len(cut_words), len(freq_words_i)]])))\n",
    "heaps_example = heaps_example[1:, :]"
   ]
  },
  {
   "cell_type": "code",
   "execution_count": 127,
   "id": "96439ae5",
   "metadata": {},
   "outputs": [
    {
     "data": {
      "text/plain": [
       "0.9907904834308886"
      ]
     },
     "execution_count": 127,
     "metadata": {},
     "output_type": "execute_result"
    }
   ],
   "source": [
    "# Test :\n",
    "X_test = np.log(heaps_example[:, 0]).reshape(len(heaps_example[:, 0]), 1)\n",
    "y_test = y = np.log(heaps_example[:, 1])\n",
    "reg.score(X_test, y_test)"
   ]
  },
  {
   "cell_type": "markdown",
   "id": "66f8d73d",
   "metadata": {},
   "source": [
    "Il y a un score de 99%, donc le modèle est assez bon."
   ]
  },
  {
   "cell_type": "markdown",
   "id": "a1aacfc8",
   "metadata": {},
   "source": [
    "## Question 6"
   ]
  },
  {
   "cell_type": "code",
   "execution_count": 128,
   "id": "6f7d16c2",
   "metadata": {},
   "outputs": [],
   "source": [
    "def pairs(s) : \n",
    "    \"\"\" Calculating all the pairs possible from a vocabulary \n",
    "    \"\"\"\n",
    "    l = []\n",
    "    for i in s : \n",
    "        for j in s : \n",
    "            if j != i : # not doubling the same character in a vocabulary\n",
    "                l.append(i+j)\n",
    "    return l\n"
   ]
  },
  {
   "cell_type": "code",
   "execution_count": 129,
   "id": "6e4d6ae4",
   "metadata": {},
   "outputs": [],
   "source": [
    "def calc_occurance(pair , l_chaine) : \n",
    "    \"\"\" Calculating the occurance of a pair in a list passed in parameters \"\"\"\n",
    "    counter = 0 \n",
    "    for elem in l_chaine : \n",
    "        if len(elem) >= 2 : \n",
    "            for i in range(len(elem) - 1) :\n",
    "                if elem[i] + elem[i+1] == pair :\n",
    "                    counter +=1 \n",
    "    return counter\n"
   ]
  },
  {
   "cell_type": "code",
   "execution_count": 130,
   "id": "368a1472",
   "metadata": {},
   "outputs": [],
   "source": [
    "def merge(pair , l_chaine) : \n",
    "    \"\"\" merging the most a pair in a list of words , usualy the most common one ( used in BPE )\"\"\"\n",
    "    for elem in l_chaine : \n",
    "        if len(elem) >= 2 :  \n",
    "            instant_len = len(elem) - 1 #to define the length of the word ( element ) at a given time since it changes when we merge a pair\n",
    "            i = 0 \n",
    "            while i < instant_len: \n",
    "                if elem[i] + elem[i+1] == pair :\n",
    "                    elem[i] = pair  # merging and putting it in the ith place \n",
    "                    elem.pop(i+1) # deleting the i+1th element since we merged it \n",
    "                    i -=  1 # going a step back because the list has been modiefied to be one element shorter because of the pop \n",
    "                    instant_len -= 1 #the length now is the old length -1 since we popped an element \n",
    "                i+=1 \n",
    "    return l_chaine"
   ]
  },
  {
   "cell_type": "code",
   "execution_count": 131,
   "id": "4b130d33",
   "metadata": {},
   "outputs": [],
   "source": [
    "def BPE(chaine , k ) : \n",
    "    \"\"\" BPE algorithm used to get the vocabulary of a corpus \"\"\"\n",
    "    voc = set(''.join(chaine))\n",
    "    chaine = [[*x] for x in chaine ]\n",
    "    \n",
    "    for i in range(k) : \n",
    "        prs = pairs(voc)    # calculating all the paris possible from a vocabulary \n",
    "        m = 0           #initiation of the maximum counter\n",
    "        for pair in prs : \n",
    "            occ = calc_occurance(pair , chaine) # calculating the occurance \n",
    "            if occ >  m: \n",
    "                m = occ \n",
    "                to_add = pair           # saving the pair with the maximum reps for the moment\n",
    "        print( \"---> \" + to_add , \"occurance : \" + str(m))\n",
    "        chaine = merge(to_add,chaine)      # to merge the pairs with maximum repetition\n",
    "        voc.add(to_add)\n",
    "    \n",
    "    return voc"
   ]
  },
  {
   "cell_type": "code",
   "execution_count": 132,
   "id": "ef5ba4a0",
   "metadata": {
    "scrolled": true
   },
   "outputs": [
    {
     "name": "stdout",
     "output_type": "stream",
     "text": [
      "---> r_ occurance : 9\n",
      "---> er_ occurance : 9\n",
      "---> ne occurance : 8\n",
      "---> new occurance : 8\n",
      "---> lo occurance : 7\n",
      "---> low occurance : 7\n",
      "---> newer_ occurance : 6\n",
      "---> low_ occurance : 5\n"
     ]
    },
    {
     "data": {
      "text/plain": [
       "{'_',\n",
       " 'd',\n",
       " 'e',\n",
       " 'er_',\n",
       " 'i',\n",
       " 'l',\n",
       " 'lo',\n",
       " 'low',\n",
       " 'low_',\n",
       " 'n',\n",
       " 'ne',\n",
       " 'new',\n",
       " 'newer_',\n",
       " 'o',\n",
       " 'r',\n",
       " 'r_',\n",
       " 's',\n",
       " 't',\n",
       " 'w'}"
      ]
     },
     "execution_count": 132,
     "metadata": {},
     "output_type": "execute_result"
    }
   ],
   "source": [
    "words = \"low_ \"*5+\"lowest_ \"*2+\"newer_ \"*6 + \"wider_ \"*3 + \"new_ \"*2\n",
    "list_of_words = words.split(\" \")\n",
    "BPE(list_of_words,8 )\n",
    "        "
   ]
  },
  {
   "cell_type": "markdown",
   "id": "763a84ed",
   "metadata": {},
   "source": [
    "# Important clarification for the results found : \n",
    "**Note that the third one added here is ew , which is not exactly what was in the example (ne) but this is totally okay and normal, it's only the way of how we are calculating the things, as we can see both ne and ew exist on the same words with the same repetitions, so they both have the same occurence and taking one or the other is true.**"
   ]
  }
 ],
 "metadata": {
  "kernelspec": {
   "display_name": "Python 3",
   "language": "python",
   "name": "python3"
  },
  "language_info": {
   "codemirror_mode": {
    "name": "ipython",
    "version": 3
   },
   "file_extension": ".py",
   "mimetype": "text/x-python",
   "name": "python",
   "nbconvert_exporter": "python",
   "pygments_lexer": "ipython3",
   "version": "3.8.8"
  }
 },
 "nbformat": 4,
 "nbformat_minor": 5
}
